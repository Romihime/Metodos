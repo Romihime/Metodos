{
  "nbformat": 4,
  "nbformat_minor": 0,
  "metadata": {
    "colab": {
      "name": "mn20191c-digitos.ipynb",
      "version": "0.3.2",
      "provenance": [],
      "collapsed_sections": []
    },
    "kernelspec": {
      "name": "python3",
      "display_name": "Python 3"
    }
  },
  "cells": [
    {
      "cell_type": "markdown",
      "metadata": {
        "id": "NUzhPc_WIGY5",
        "colab_type": "text"
      },
      "source": [
        "# Reconocimiento de Dígitos \n",
        "## (usando KNN y PCA)\n",
        "\n",
        "En esta notebook veremos cómo reconocer dígitos usando la técnica K-Nearest Neighbors (KNN).\n",
        "\n",
        "También veremos un poquito de PCA"
      ]
    },
    {
      "cell_type": "code",
      "metadata": {
        "id": "9C1u3Ynu_zkF",
        "colab_type": "code",
        "colab": {}
      },
      "source": [
        "%matplotlib inline\n",
        "from sklearn import datasets\n",
        "import numpy as np\n",
        "import pandas as pd\n",
        "import matplotlib.pyplot as plt\n",
        "from sklearn.datasets import fetch_openml\n"
      ],
      "execution_count": 0,
      "outputs": []
    },
    {
      "cell_type": "markdown",
      "metadata": {
        "id": "25PSxTTqIkan",
        "colab_type": "text"
      },
      "source": [
        "Usaremos la base de datos MNIST. Primero, la bajamos"
      ]
    },
    {
      "cell_type": "code",
      "metadata": {
        "id": "s5S1vfeQoAmw",
        "colab_type": "code",
        "colab": {}
      },
      "source": [
        "# Load data from https://www.openml.org/d/554\n",
        "X_all, y_all = fetch_openml('mnist_784', version=1, return_X_y=True)\n",
        "\n",
        "y_all = y_all.astype(int)\n",
        "\n"
      ],
      "execution_count": 0,
      "outputs": []
    },
    {
      "cell_type": "markdown",
      "metadata": {
        "id": "6P0JHXO_I7iv",
        "colab_type": "text"
      },
      "source": [
        "Veamos qué forma tienen los datos"
      ]
    },
    {
      "cell_type": "code",
      "metadata": {
        "id": "TYUymFYCrDxa",
        "colab_type": "code",
        "outputId": "26f6d060-035a-437d-af83-a90795ad9713",
        "colab": {
          "base_uri": "https://localhost:8080/",
          "height": 34
        }
      },
      "source": [
        "X_all.shape, y_all.shape"
      ],
      "execution_count": 3,
      "outputs": [
        {
          "output_type": "execute_result",
          "data": {
            "text/plain": [
              "((70000, 784), (70000,))"
            ]
          },
          "metadata": {
            "tags": []
          },
          "execution_count": 3
        }
      ]
    },
    {
      "cell_type": "markdown",
      "metadata": {
        "id": "uS4m4o38JAJj",
        "colab_type": "text"
      },
      "source": [
        "En `X` tenemos imágenes de 28x28, una por línea (28x28 = 784).\n",
        "En `y` tenemos a qué clase pertenecen (si es un 0, un 1, un 2, ... así hasta 9)\n"
      ]
    },
    {
      "cell_type": "code",
      "metadata": {
        "id": "3QmACGaar9yq",
        "colab_type": "code",
        "colab": {}
      },
      "source": [
        "\n",
        "limit = 10000\n",
        "X = X_all[:limit]\n",
        "y = y_all[:limit]"
      ],
      "execution_count": 0,
      "outputs": []
    },
    {
      "cell_type": "markdown",
      "metadata": {
        "id": "PQpmkjWBJSm4",
        "colab_type": "text"
      },
      "source": [
        "Grafiquémoslos"
      ]
    },
    {
      "cell_type": "code",
      "metadata": {
        "id": "D3DnUTImi_p1",
        "colab_type": "code",
        "outputId": "c5a488b8-17df-4712-e84a-8911abe07889",
        "colab": {
          "base_uri": "https://localhost:8080/",
          "height": 35
        }
      },
      "source": [
        "X[0].shape\n"
      ],
      "execution_count": 0,
      "outputs": [
        {
          "output_type": "execute_result",
          "data": {
            "text/plain": [
              "(784,)"
            ]
          },
          "metadata": {
            "tags": []
          },
          "execution_count": 8
        }
      ]
    },
    {
      "cell_type": "code",
      "metadata": {
        "id": "wTvspBibBQQD",
        "colab_type": "code",
        "outputId": "5e018a1e-506e-408b-8dde-66f12f98e40c",
        "colab": {
          "base_uri": "https://localhost:8080/",
          "height": 304
        }
      },
      "source": [
        "num = 500\n",
        "\n",
        "print(\"Supuestamente es un {}\".format(y[num]))\n",
        "\n",
        "img = X[num].reshape(28, 28)\n",
        "plt.imshow(img, cmap=\"Greys\")"
      ],
      "execution_count": 0,
      "outputs": [
        {
          "output_type": "stream",
          "text": [
            "Supuestamente es un 3\n"
          ],
          "name": "stdout"
        },
        {
          "output_type": "execute_result",
          "data": {
            "text/plain": [
              "<matplotlib.image.AxesImage at 0x7f73d597ae10>"
            ]
          },
          "metadata": {
            "tags": []
          },
          "execution_count": 13
        },
        {
          "output_type": "display_data",
          "data": {
            "image/png": "[encoded data removed]",
            "text/plain": [
              "<Figure size 432x288 with 1 Axes>"
            ]
          },
          "metadata": {
            "tags": []
          }
        }
      ]
    },
    {
      "cell_type": "markdown",
      "metadata": {
        "id": "WxQB-SZNJU9J",
        "colab_type": "text"
      },
      "source": [
        "### División del dataset entre train y test\n",
        "\n",
        "Dividimos el dataset entre train y test. Para eso usamos la siguiente función de `sklearn`"
      ]
    },
    {
      "cell_type": "code",
      "metadata": {
        "id": "nREpYkO2Hz-A",
        "colab_type": "code",
        "outputId": "942c03c7-0565-431d-fd55-52d912420982",
        "colab": {
          "base_uri": "https://localhost:8080/",
          "height": 34
        }
      },
      "source": [
        "from sklearn.model_selection import train_test_split\n",
        "\n",
        "X_train, X_test, y_train, y_test = train_test_split(X, y)\n",
        "\n",
        "X_train.shape, y_train.shape, X_test.shape, y_test.shape"
      ],
      "execution_count": 5,
      "outputs": [
        {
          "output_type": "execute_result",
          "data": {
            "text/plain": [
              "((7500, 784), (7500,), (2500, 784), (2500,))"
            ]
          },
          "metadata": {
            "tags": []
          },
          "execution_count": 5
        }
      ]
    },
    {
      "cell_type": "markdown",
      "metadata": {
        "id": "bsesf8FrGNQd",
        "colab_type": "text"
      },
      "source": [
        "Vamos a implementar esto.\n",
        "\n",
        "Usualmente los clasificadores (siguiendo la interfaz de [sklearn](https://scikit-learn.org/stable/tutorial/statistical_inference/supervised_learning.html) tienen dos métodos:\n",
        "\n",
        "- `fit(X, y)` que ajusta(\"fittea\") el modelo a los datos \n",
        "- `predict(X)`: dadas observaciones `X` predice sus etiquetas `y`\n",
        "\n",
        "## Ejercicio\n",
        "\n",
        "Implementar los métodos fit y predict de KNNClassifier. Tratar de vectorizar las operaciones en la medida de lo posible.\n",
        "\n",
        "Pensar primero cómo calcular la distancia de un vector a todas las filas de una matriz `X`.\n",
        "\n",
        "Pueden ser de ayuda las siguientes funciones:\n",
        "\n",
        "- `np.square`: eleva al cuadrado un array\n",
        "- `np.sum`: suma un array\n",
        "- `np.argsort`: devuelve los índices de un array ordenados de menor a mayor\n",
        "- `np.bincount`:  dado un array de valores no-negativos, calcula cuántas veces vio a cada uno\n",
        "- `np.argmax`: devuelve el índice cuyo valor es el más grande de un array"
      ]
    },
    {
      "cell_type": "code",
      "metadata": {
        "id": "FpXy98CPnyMV",
        "colab_type": "code",
        "outputId": "74ff2a90-921e-4621-82d7-e21f45bb3762",
        "colab": {
          "base_uri": "https://localhost:8080/",
          "height": 87
        }
      },
      "source": [
        "A = np.array([\n",
        "    [1, 1, 1],\n",
        "    [0, 1, 1],\n",
        "    [0, 0, 1],\n",
        "    [0, 0, 0]\n",
        "])\n",
        "\n",
        "x = np.array([1, 1, 1])\n",
        "\n",
        "np.square(A - x)"
      ],
      "execution_count": 0,
      "outputs": [
        {
          "output_type": "execute_result",
          "data": {
            "text/plain": [
              "array([[0, 0, 0],\n",
              "       [1, 0, 0],\n",
              "       [1, 1, 0],\n",
              "       [1, 1, 1]])"
            ]
          },
          "metadata": {
            "tags": []
          },
          "execution_count": 22
        }
      ]
    },
    {
      "cell_type": "code",
      "metadata": {
        "id": "BClZPiUXJhyD",
        "colab_type": "code",
        "colab": {}
      },
      "source": [
        "import numpy as np\n",
        "from IPython.core.debugger import set_trace\n",
        "\n",
        "\n",
        "class KNNClassifier:\n",
        "    def __init__(self, n_neighbors, metric='l2'):\n",
        "        self.n_neighbors = n_neighbors\n",
        "    \n",
        "    def fit(self, X, y):\n",
        "        self.X = X #sería la crítica\n",
        "        self.y = y #sería la etiqueta\n",
        "        \n",
        "    def _predict_row(self, row):\n",
        "        A = np.argsort(np.sum((np.square(self.X-row)), axis=1))        \n",
        "        \n",
        "        k = np.zeros(self.n_neighbors)\n",
        "        for i in range(k.shape[0]):\n",
        "          k[i] = self.y[A[i]]\n",
        "        \n",
        "        k = np.bincount(k.astype(int))        \n",
        "        \n",
        "\n",
        "        return np.argmax(k)\n",
        "    \n",
        "    def predict(self, X, y=None):\n",
        "        ret = np.zeros(X.shape[0])#vector columna a devolver\n",
        "        for k, row in enumerate(X):\n",
        "            ret[k] = self._predict_row(row)\n",
        "        return ret\n"
      ],
      "execution_count": 0,
      "outputs": []
    },
    {
      "cell_type": "markdown",
      "metadata": {
        "id": "68eAjMIiG6by",
        "colab_type": "text"
      },
      "source": [
        "Creamos el modelo y lo ajustamos a nuestros datos de entrenamiento"
      ]
    },
    {
      "cell_type": "code",
      "metadata": {
        "id": "gOgE1YFDLCYQ",
        "colab_type": "code",
        "colab": {}
      },
      "source": [
        "\n",
        "clf = KNNClassifier(n_neighbors=10)\n",
        "\n",
        "clf.fit(X_train, y_train)\n"
      ],
      "execution_count": 0,
      "outputs": []
    },
    {
      "cell_type": "markdown",
      "metadata": {
        "id": "AUx6ceJOG9ZQ",
        "colab_type": "text"
      },
      "source": [
        "Acá evaluamos cómo nos da el modelo. Esto lo hacemos midiendo la tasa de acierto de las predicciones de nuestro clasificador.\n",
        "\n",
        "Para eso, primero predecimos `y_pred` y nos fijamos cuántas de esas mediciones dan igual que `y_test`\n",
        "\n"
      ]
    },
    {
      "cell_type": "code",
      "metadata": {
        "id": "m9XH021Lq6sa",
        "colab_type": "code",
        "outputId": "8af643c5-79cc-4f34-b6bb-f0c594bfd0f6",
        "colab": {
          "base_uri": "https://localhost:8080/",
          "height": 70
        }
      },
      "source": [
        "%%time\n",
        "\n",
        "from sklearn.metrics import accuracy_score\n",
        "\n",
        "# Pedimos que prediga los de test...\n",
        "\n",
        "y_pred = clf.predict(X_test)\n",
        "\n",
        "# Pedimos \n",
        "acc = accuracy_score(y_test, y_pred)\n",
        "print(\"Accuracy: {}\".format(acc))"
      ],
      "execution_count": 0,
      "outputs": [
        {
          "output_type": "stream",
          "text": [
            "Accuracy: 0.9384\n",
            "CPU times: user 1min 45s, sys: 6.4 s, total: 1min 51s\n",
            "Wall time: 1min 51s\n"
          ],
          "name": "stdout"
        }
      ]
    },
    {
      "cell_type": "markdown",
      "metadata": {
        "id": "VfVhT9CMOW5y",
        "colab_type": "text"
      },
      "source": [
        "Deberían obtener una tasa de acierto > 90%...\n",
        "\n",
        "Como vemos, se toma su tiempito. ¿Cómo podemos hacer para agilizar el proceso?\n",
        "\n"
      ]
    },
    {
      "cell_type": "markdown",
      "metadata": {
        "id": "Jc4fmbpMPu1M",
        "colab_type": "text"
      },
      "source": [
        "## PCA\n",
        "\n",
        "Vamos a ver una técnica para reducir la dimensionalidad y aún así mantener la mayor cantidad de información posible.\n",
        "\n",
        "Recordemos que, dada X su matriz de covarianza $M_X$ es\n",
        "\n",
        "$$ M_X = \\frac{X^T X}{n-1} $$\n",
        "\n",
        "En primer lugar, calculemos la matriz de covarianza de $X_{train}$"
      ]
    },
    {
      "cell_type": "code",
      "metadata": {
        "id": "znT2NgA2PwFM",
        "colab_type": "code",
        "outputId": "197236c4-3678-4128-f0c4-c5b255aab25b",
        "colab": {
          "base_uri": "https://localhost:8080/",
          "height": 51
        }
      },
      "source": [
        "import numpy as np\n",
        "\n",
        "M = (X_train - X_train.mean(axis=0))\n",
        "\n",
        "print(X_train.shape[0], X_train.shape[1])\n",
        "print(M.shape[0], M.shape[1])\n",
        "\n",
        "\n",
        "\n",
        "cov_matrix = M.T @ M / (M.shape[0]-1) "
      ],
      "execution_count": 7,
      "outputs": [
        {
          "output_type": "stream",
          "text": [
            "7500 784\n",
            "7500 784\n"
          ],
          "name": "stdout"
        }
      ]
    },
    {
      "cell_type": "markdown",
      "metadata": {
        "id": "lniiLCAmNSRt",
        "colab_type": "text"
      },
      "source": [
        "Usemos `np.linalg.eig` para diagonalizar la matriz"
      ]
    },
    {
      "cell_type": "code",
      "metadata": {
        "id": "d2XLlE4CPx7L",
        "colab_type": "code",
        "colab": {
          "base_uri": "https://localhost:8080/",
          "height": 34
        },
        "outputId": "3b07f67e-9491-440e-b100-e784173f2fe5"
      },
      "source": [
        "w, V = np.linalg.eig(cov_matrix)\n",
        "\n",
        "# A veces aparecen números complejos acá. Los descartamos\n",
        "w = np.real(w)\n",
        "V = np.real(V)\n",
        "\n",
        "print(cov_matrix.shape[0], cov_matrix.shape[1]) "
      ],
      "execution_count": 8,
      "outputs": [
        {
          "output_type": "stream",
          "text": [
            "784 784\n"
          ],
          "name": "stdout"
        }
      ]
    },
    {
      "cell_type": "code",
      "metadata": {
        "id": "gvsfaDkDP7cy",
        "colab_type": "code",
        "outputId": "8ffaa54b-c088-4e12-b654-4f565ca45f18",
        "colab": {
          "base_uri": "https://localhost:8080/",
          "height": 705
        }
      },
      "source": [
        "plt.figure(figsize=(12, 12))\n",
        "for i in range(16):\n",
        "    plt.subplot(4, 4, i+1)\n",
        "    plt.imshow(V[:, i].reshape(28, 28), cmap='Greys')"
      ],
      "execution_count": 0,
      "outputs": [
        {
          "output_type": "display_data",
          "data": {
            "image/png": "[encoded data removed]",
            "text/plain": [
              "<Figure size 864x864 with 16 Axes>"
            ]
          },
          "metadata": {
            "tags": []
          }
        }
      ]
    },
    {
      "cell_type": "markdown",
      "metadata": {
        "id": "Y-Uz7baIP80E",
        "colab_type": "text"
      },
      "source": [
        "## Recordando cambios de base y otros yuyos\n",
        "\n",
        "Sup $M_X$ es la matriz de la covarianza, \n",
        "\n",
        "$$ M_X = \\frac{X^T X}{n-1} $$\n",
        "\n",
        "Si $B = \\{v_1, \\ldots , v_n\\}$ es la base ortogonal de autovectores de $M_X$ entonces la matriz cambio de base de $B$ a la base canónica ($E$) se escribe como la matriz cuyas columnas son los respectivos vectores\n",
        "\n",
        "$$C_{B, E} = V = \\begin{bmatrix}\n",
        "        &     & \\ldots &     \\\\\n",
        "    v_1 & v_2 & \\ldots & v_n \\\\\n",
        "        &     & \\ldots &     \\\\\n",
        "\\end{bmatrix}\n",
        "$$\n",
        "\n",
        "\n",
        "La matriz inversa de ésta es la cambio de base de $E$ a $B$. Es decir $C_{E, B} = C_{B, E}^{-1}$. Como nuestra base es ortogonal, tenemos\n",
        "\n",
        "$$ C_{E, B} = C_{B, E}^T = V^T = \\begin{bmatrix}\n",
        "& & v_1   & &\\\\\n",
        "& & v_2   & &\\\\\n",
        "& &\\vdots & & \\\\\n",
        "& & v_n   & & \\\\\n",
        "\\end{bmatrix}\n",
        "$$\n",
        "\n",
        "Es decir, la matriz que consiste de apilar los vectores fila de la base $B$.\n",
        "\n",
        "\n",
        "### Cambiando de base nuestras instancias de entrenamiento\n",
        "\n",
        "Nuestras matrices $X \\in R^{n \\times m}$ con $n$ igual a la cantidad de instancias de entrenamiento, y $m$ la cantidad de variables\n",
        "\n",
        "Tenemos entonces\n",
        "\n",
        "$$ X = \\begin{bmatrix}\n",
        "& & x^{(1)}   & &\\\\\n",
        "& & x^{(2)}   & &\\\\\n",
        "& &\\vdots & & \\\\\n",
        "& & v_n   & & \\\\\n",
        "\\end{bmatrix}\n",
        "$$\n",
        "\n",
        "Si $x$ es una instancia de entrenamiento a la cual queremos cambiar de base, queremos hacer\n",
        "\n",
        "$$\\overline x = V^T x$$\n",
        "\n",
        "Luego, si queremos cambiar de base cada instancia, hacemos...\n",
        "\n",
        "$$ V^T X^T = V^T \\begin{bmatrix}\n",
        "        & &    & &\\\\\n",
        "x^{(1)}& x^{(2)} &\\ldots & x ^{(n-1)} & x ^{(n)} \\\\\n",
        "& & & & \\\\\n",
        "\\end{bmatrix} = \\begin{bmatrix}\n",
        "        & &    & &\\\\\n",
        "V^T x^{(1)}& V^T x^{(2)} &\\ldots & V^T x ^{(n-1)} & V^T x ^{(n)} \\\\\n",
        "& & & & \\\\\n",
        "\\end{bmatrix} = \\begin{bmatrix}\n",
        "        & &    & &\\\\\n",
        "\\overline{x^{(1)}}& \\overline{x^{(2)}} &\\ldots & \\overline{x^{(n-1)}} & \\overline{x^{(n)}} \\\\\n",
        "& & & & \\\\\n",
        "\\end{bmatrix}\n",
        "$$\n",
        "\n",
        "Ahora, lo que necesitamos es que cada instancia esté en una fila, así que trasponemos\n",
        "\n",
        "$$\n",
        "\\overline{X} = (V^T X^T)^T = X V\n",
        "$$"
      ]
    },
    {
      "cell_type": "markdown",
      "metadata": {
        "id": "5siYDx08KjN6",
        "colab_type": "text"
      },
      "source": [
        "## Ejercicio:\n",
        "\n",
        "1. Implementar el cambio de base usando \n",
        "2. Experimentar con distintos $\\alpha$. ¿Cómo afecta la accuracy de nuestro algoritmo? ¿Es más rápido (en tiempo)?"
      ]
    },
    {
      "cell_type": "code",
      "metadata": {
        "id": "JjnwHXZISV-P",
        "colab_type": "code",
        "colab": {}
      },
      "source": [
        "X_pca_train = X_train @ V[:, :30]\n",
        "X_pca_test = X_test @ V[:, :30]"
      ],
      "execution_count": 0,
      "outputs": []
    },
    {
      "cell_type": "markdown",
      "metadata": {
        "id": "a49NYmvxK1yn",
        "colab_type": "text"
      },
      "source": [
        "Entrenar ahora el clasificador usando estas nuevas instancias[]"
      ]
    },
    {
      "cell_type": "code",
      "metadata": {
        "id": "8Onn-oAeuyGt",
        "colab_type": "code",
        "colab": {}
      },
      "source": [
        "clf = KNNClassifier(n_neighbors=10)\n",
        "clf.fit(X_pca_train, y_train)"
      ],
      "execution_count": 0,
      "outputs": []
    },
    {
      "cell_type": "code",
      "metadata": {
        "id": "6LRgcyWzSgRZ",
        "colab_type": "code",
        "outputId": "36c2f334-8b01-4a70-e49e-96be26e707ec",
        "colab": {
          "base_uri": "https://localhost:8080/",
          "height": 68
        }
      },
      "source": [
        "%%time\n",
        "from sklearn.metrics import accuracy_score\n",
        "y_pred = clf.predict(X_pca_test)\n",
        "\n",
        "acc = accuracy_score(y_test, y_pred)\n",
        "print(\"Accuracy: {}\".format(acc))"
      ],
      "execution_count": 13,
      "outputs": [
        {
          "output_type": "stream",
          "text": [
            "Accuracy: 0.9528\n",
            "CPU times: user 3.98 s, sys: 77.9 ms, total: 4.06 s\n",
            "Wall time: 4.07 s\n"
          ],
          "name": "stdout"
        }
      ]
    },
    {
      "cell_type": "markdown",
      "metadata": {
        "id": "AfyorODHNX7e",
        "colab_type": "text"
      },
      "source": [
        "## Track extra: Autovalores y autovectores"
      ]
    },
    {
      "cell_type": "code",
      "metadata": {
        "id": "ZnLnfVRpNaJX",
        "colab_type": "code",
        "colab": {}
      },
      "source": [
        "def power_iteration(A, niter=10000):\n",
        "    \"\"\"\n",
        "    Calcula el autovector al autovalor asociado de valor máximo\n",
        "    \n",
        "    \n",
        "    Devuelve (a, v) con a autovalor, y v autovector de A\n",
        "    \"\"\"\n",
        "    v= np.random.rand(A.shape[1])\n",
        "    \n",
        "    v = v/ np.linalg.norm(v)\n",
        "    #v.reshape(1, -1)        \n",
        "    a= 0    \n",
        "    for iteration in range(0, niter):      \n",
        "      v.reshape(-1,1)     \n",
        "      v = (A @ v / np.linalg.norm((A @ v)))\n",
        "    a = (v.T @ A @ v) / (v.T @ v)\n",
        "    return a, v\n",
        "    \n",
        "           \n",
        "    #a = (v.T @ A @ v) / v.T @ v  \n",
        "    #a = 1\n",
        "    #v = np.ones(A.shape[0])\n",
        "    \n",
        "   \n"
      ],
      "execution_count": 0,
      "outputs": []
    },
    {
      "cell_type": "code",
      "metadata": {
        "id": "ecpvPvOpjDlL",
        "colab_type": "code",
        "outputId": "238e28b1-c7f3-44a4-8cc1-0170f9503dfa",
        "colab": {
          "base_uri": "https://localhost:8080/",
          "height": 34
        }
      },
      "source": [
        "v = np.ones(5)\n",
        "print(v)"
      ],
      "execution_count": 0,
      "outputs": [
        {
          "output_type": "stream",
          "text": [
            "[1. 1. 1. 1. 1.]\n"
          ],
          "name": "stdout"
        }
      ]
    },
    {
      "cell_type": "markdown",
      "metadata": {
        "id": "hU4_Qf4ROArf",
        "colab_type": "text"
      },
      "source": [
        "Ejemplo: calcular con una matriz que sabemos que es diagonal"
      ]
    },
    {
      "cell_type": "code",
      "metadata": {
        "id": "7tqoDw2pOAEa",
        "colab_type": "code",
        "outputId": "d3b13ba6-f27e-4883-a58d-f5dbe0df5b0e",
        "colab": {
          "base_uri": "https://localhost:8080/",
          "height": 119
        }
      },
      "source": [
        "import numpy as np\n",
        "from IPython.core.debugger import set_trace\n",
        "\n",
        "D = np.diag([5, 4, 3, 2, 1])\n",
        "\n",
        "v = np.ones((D.shape[0], 1))\n",
        "\n",
        "v = v / np.linalg.norm(v)#vector v normalizado\n",
        "\n",
        "#print(np.eye(D.shape[0])) #matriz identidad de dimension filas de D\n",
        "# Matriz de Householder\n",
        "B = np.eye(D.shape[0]) - 2 * (v @ v.T)\n",
        "# Matriz ya diagonalizada\n",
        "M = B.T @ D @ B\n",
        "print(B)\n",
        "power_iteration(M)"
      ],
      "execution_count": 107,
      "outputs": [
        {
          "output_type": "stream",
          "text": [
            "[[ 0.6 -0.4 -0.4 -0.4 -0.4]\n",
            " [-0.4  0.6 -0.4 -0.4 -0.4]\n",
            " [-0.4 -0.4  0.6 -0.4 -0.4]\n",
            " [-0.4 -0.4 -0.4  0.6 -0.4]\n",
            " [-0.4 -0.4 -0.4 -0.4  0.6]]\n"
          ],
          "name": "stdout"
        },
        {
          "output_type": "execute_result",
          "data": {
            "text/plain": [
              "(5.000000000000001, array([-0.6,  0.4,  0.4,  0.4,  0.4]))"
            ]
          },
          "metadata": {
            "tags": []
          },
          "execution_count": 107
        }
      ]
    },
    {
      "cell_type": "code",
      "metadata": {
        "id": "PMF07FbhNzDz",
        "colab_type": "code",
        "colab": {}
      },
      "source": [
        "def eigen(A, num=2, **kwargs):\n",
        "    \"\"\"\n",
        "    Calculamos num autovalores y autovectores usando método de la potencia+deflación\n",
        "    \"\"\"\n",
        "    C = A.copy()\n",
        "    eigenvalues = []\n",
        "    eigenvectors = np.zeros((A.shape[0], num))\n",
        "    for i in range(num):\n",
        "        a, v = power_iteration(C)                \n",
        "        C = (C -(a * (v.reshape(-1,1) @ v.reshape(-1,1).T)))        \n",
        "        eigenvalues.append(a)\n",
        "        eigenvectors[:, i] = v\n",
        "          \n",
        "    return np.array(eigenvalues), eigenvectors\n"
      ],
      "execution_count": 0,
      "outputs": []
    },
    {
      "cell_type": "code",
      "metadata": {
        "id": "ENdvS0C4PBoD",
        "colab_type": "code",
        "colab": {
          "base_uri": "https://localhost:8080/",
          "height": 102
        },
        "outputId": "62d23647-62f1-4e0b-bac2-eb13e3715b2d"
      },
      "source": [
        "\n",
        "eigen(M, 3)"
      ],
      "execution_count": 125,
      "outputs": [
        {
          "output_type": "execute_result",
          "data": {
            "text/plain": [
              "(array([5., 4., 3.]), array([[-0.6,  0.4,  0.4],\n",
              "        [ 0.4, -0.6,  0.4],\n",
              "        [ 0.4,  0.4, -0.6],\n",
              "        [ 0.4,  0.4,  0.4],\n",
              "        [ 0.4,  0.4,  0.4]]))"
            ]
          },
          "metadata": {
            "tags": []
          },
          "execution_count": 125
        }
      ]
    }
  ]
}